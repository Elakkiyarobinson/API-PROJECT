{
 "cells": [
  {
   "cell_type": "code",
   "execution_count": 1,
   "id": "b298e484",
   "metadata": {},
   "outputs": [],
   "source": [
    "import numpy as np\n",
    "from pickle import load"
   ]
  },
  {
   "cell_type": "code",
   "execution_count": 2,
   "id": "693c1d0b",
   "metadata": {},
   "outputs": [],
   "source": [
    "loaded_model = load(open('best_model.pkl','rb'))\n",
    "poly = load(open('poly.pkl','rb'))\n",
    "sc = load(open('scalar.pkl','rb'))"
   ]
  },
  {
   "cell_type": "code",
   "execution_count": 3,
   "id": "9429ff0e",
   "metadata": {},
   "outputs": [],
   "source": [
    "def prediction(model,poly,sc):\n",
    "    l=[]\n",
    "    l.append(float(input('Enter House Age: ')))\n",
    "    l.append(float(input('distance to the nearest MRT station: ')))\n",
    "    l.append(float(input('number of convenience stores: ')))\n",
    "    l.append(float(input('Latitude: ')))\n",
    "    l.append(float(input('Longitude: ')))\n",
    "    arr = np.asarray([l])\n",
    "    arr = poly.transform(arr)\n",
    "    print(arr.shape)\n",
    "    scaled_arr = sc.transform(arr)\n",
    "    print('Price of the house per unit area: ', round(model.predict(scaled_arr)[0][0],2))\n"
   ]
  },
  {
   "cell_type": "code",
   "execution_count": 4,
   "id": "e2105298",
   "metadata": {},
   "outputs": [],
   "source": [
    "# 13.3 561.98450 5 24.98746 121.54391 47.3"
   ]
  },
  {
   "cell_type": "code",
   "execution_count": 5,
   "id": "fb73ed81",
   "metadata": {},
   "outputs": [
    {
     "name": "stdout",
     "output_type": "stream",
     "text": [
      "Enter House Age: 13.3\n",
      "distance to the nearest MRT station: 56198450\n",
      "number of convenience stores: 5\n",
      "Latitude: 24.98746\n",
      "Longitude: 121.54391\n",
      "(1, 1287)\n",
      "Price of the house per unit area:  3.5096598827029862e+31\n"
     ]
    },
    {
     "name": "stderr",
     "output_type": "stream",
     "text": [
      "C:\\Users\\Admin\\anaconda3\\Lib\\site-packages\\sklearn\\base.py:464: UserWarning: X does not have valid feature names, but PolynomialFeatures was fitted with feature names\n",
      "  warnings.warn(\n"
     ]
    }
   ],
   "source": [
    "prediction(loaded_model,poly,sc)\n"
   ]
  },
  {
   "cell_type": "code",
   "execution_count": 6,
   "id": "a9ae53fa",
   "metadata": {},
   "outputs": [],
   "source": []
  },
  {
   "cell_type": "code",
   "execution_count": null,
   "id": "3649e522",
   "metadata": {},
   "outputs": [],
   "source": []
  }
 ],
 "metadata": {
  "kernelspec": {
   "display_name": "Python 3 (ipykernel)",
   "language": "python",
   "name": "python3"
  },
  "language_info": {
   "codemirror_mode": {
    "name": "ipython",
    "version": 3
   },
   "file_extension": ".py",
   "mimetype": "text/x-python",
   "name": "python",
   "nbconvert_exporter": "python",
   "pygments_lexer": "ipython3",
   "version": "3.11.5"
  }
 },
 "nbformat": 4,
 "nbformat_minor": 5
}
